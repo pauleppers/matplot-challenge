{
 "cells": [
  {
   "cell_type": "markdown",
   "metadata": {},
   "source": [
    "## Observations and Insights "
   ]
  },
  {
   "cell_type": "markdown",
   "metadata": {},
   "source": []
  },
  {
   "cell_type": "code",
   "execution_count": 94,
   "metadata": {},
   "outputs": [
    {
     "data": {
      "text/html": [
       "<div>\n",
       "<style scoped>\n",
       "    .dataframe tbody tr th:only-of-type {\n",
       "        vertical-align: middle;\n",
       "    }\n",
       "\n",
       "    .dataframe tbody tr th {\n",
       "        vertical-align: top;\n",
       "    }\n",
       "\n",
       "    .dataframe thead th {\n",
       "        text-align: right;\n",
       "    }\n",
       "</style>\n",
       "<table border=\"1\" class=\"dataframe\">\n",
       "  <thead>\n",
       "    <tr style=\"text-align: right;\">\n",
       "      <th></th>\n",
       "      <th>Mouse ID</th>\n",
       "      <th>Timepoint</th>\n",
       "      <th>Tumor Volume (mm3)</th>\n",
       "      <th>Metastatic Sites</th>\n",
       "      <th>Drug Regimen</th>\n",
       "      <th>Sex</th>\n",
       "      <th>Age_months</th>\n",
       "      <th>Weight (g)</th>\n",
       "    </tr>\n",
       "  </thead>\n",
       "  <tbody>\n",
       "    <tr>\n",
       "      <th>0</th>\n",
       "      <td>b128</td>\n",
       "      <td>0</td>\n",
       "      <td>45.000000</td>\n",
       "      <td>0</td>\n",
       "      <td>Capomulin</td>\n",
       "      <td>Female</td>\n",
       "      <td>9</td>\n",
       "      <td>22</td>\n",
       "    </tr>\n",
       "    <tr>\n",
       "      <th>1</th>\n",
       "      <td>b128</td>\n",
       "      <td>5</td>\n",
       "      <td>45.651331</td>\n",
       "      <td>0</td>\n",
       "      <td>Capomulin</td>\n",
       "      <td>Female</td>\n",
       "      <td>9</td>\n",
       "      <td>22</td>\n",
       "    </tr>\n",
       "    <tr>\n",
       "      <th>2</th>\n",
       "      <td>b128</td>\n",
       "      <td>10</td>\n",
       "      <td>43.270852</td>\n",
       "      <td>0</td>\n",
       "      <td>Capomulin</td>\n",
       "      <td>Female</td>\n",
       "      <td>9</td>\n",
       "      <td>22</td>\n",
       "    </tr>\n",
       "    <tr>\n",
       "      <th>3</th>\n",
       "      <td>b128</td>\n",
       "      <td>15</td>\n",
       "      <td>43.784893</td>\n",
       "      <td>0</td>\n",
       "      <td>Capomulin</td>\n",
       "      <td>Female</td>\n",
       "      <td>9</td>\n",
       "      <td>22</td>\n",
       "    </tr>\n",
       "    <tr>\n",
       "      <th>4</th>\n",
       "      <td>b128</td>\n",
       "      <td>20</td>\n",
       "      <td>42.731552</td>\n",
       "      <td>0</td>\n",
       "      <td>Capomulin</td>\n",
       "      <td>Female</td>\n",
       "      <td>9</td>\n",
       "      <td>22</td>\n",
       "    </tr>\n",
       "  </tbody>\n",
       "</table>\n",
       "</div>"
      ],
      "text/plain": [
       "  Mouse ID  Timepoint  Tumor Volume (mm3)  Metastatic Sites Drug Regimen  \\\n",
       "0     b128          0           45.000000                 0    Capomulin   \n",
       "1     b128          5           45.651331                 0    Capomulin   \n",
       "2     b128         10           43.270852                 0    Capomulin   \n",
       "3     b128         15           43.784893                 0    Capomulin   \n",
       "4     b128         20           42.731552                 0    Capomulin   \n",
       "\n",
       "      Sex  Age_months  Weight (g)  \n",
       "0  Female           9          22  \n",
       "1  Female           9          22  \n",
       "2  Female           9          22  \n",
       "3  Female           9          22  \n",
       "4  Female           9          22  "
      ]
     },
     "execution_count": 94,
     "metadata": {},
     "output_type": "execute_result"
    }
   ],
   "source": [
    "# Dependencies and Setup\n",
    "import matplotlib.pyplot as plt\n",
    "import pandas as pd\n",
    "import scipy.stats as st\n",
    "from scipy.stats import linregress\n",
    "import numpy as np\n",
    "\n",
    "# Study data files\n",
    "mouse_metadata_path = \"data/Mouse_metadata.csv\"\n",
    "study_results_path = \"data/Study_results.csv\"\n",
    "\n",
    "# Read the mouse data and the study results\n",
    "mouse_metadata = pd.read_csv(mouse_metadata_path)\n",
    "study_results = pd.read_csv(study_results_path)\n",
    "\n",
    "# Combine the data into a single dataset\n",
    "dataset = pd.merge(study_results,mouse_metadata, on='Mouse ID', how = 'outer')\n",
    "\n",
    "# Display the data table for preview\n",
    "dataset.head()"
   ]
  },
  {
   "cell_type": "code",
   "execution_count": 95,
   "metadata": {},
   "outputs": [],
   "source": [
    "# Checking the number of mice. Grouping by Mouse ID and Timepoint to count doubles(>2)\n",
    "dataset_gp = dataset.groupby(['Mouse ID','Timepoint'])['Sex'].count()\n",
    "mouseID = pd.DataFrame(dataset_gp)\n",
    "mouseID = mouseID.rename(columns = {'Sex':'Mouse Count'})"
   ]
  },
  {
   "cell_type": "code",
   "execution_count": 96,
   "metadata": {},
   "outputs": [
    {
     "name": "stdout",
     "output_type": "stream",
     "text": [
      "['g989']\n"
     ]
    }
   ],
   "source": [
    "# Getting the duplicate mice by ID number that shows up for Mouse ID and Timepoint. \n",
    "duplicate_mice = mouseID.loc[(mouseID['Mouse Count'] > 1), : ]\n",
    "duplicate_mice = duplicate_mice.reset_index()   #  pandas.core.frame.DataFrame\n",
    "delete_mice = duplicate_mice['Mouse ID'].unique()   # numpy.ndarray\n",
    "print(delete_mice)"
   ]
  },
  {
   "cell_type": "code",
   "execution_count": 97,
   "metadata": {},
   "outputs": [],
   "source": [
    "# Optional: Get all the data for the duplicate mouse ID. \n",
    "delete_mice_all = dataset.loc[(dataset['Mouse ID'] == 'g989'), :]"
   ]
  },
  {
   "cell_type": "code",
   "execution_count": 98,
   "metadata": {},
   "outputs": [],
   "source": [
    "# Create a clean DataFrame by dropping the duplicate mouse by its ID.\n",
    "clean_data = dataset.set_index('Mouse ID')\n",
    "clean_data = clean_data.drop(index = 'g989')\n",
    "clean_data = clean_data.reset_index()\n"
   ]
  },
  {
   "cell_type": "code",
   "execution_count": 99,
   "metadata": {},
   "outputs": [
    {
     "data": {
      "text/plain": [
       "Mouse ID              1880\n",
       "Timepoint             1880\n",
       "Tumor Volume (mm3)    1880\n",
       "Metastatic Sites      1880\n",
       "Drug Regimen          1880\n",
       "Sex                   1880\n",
       "Age_months            1880\n",
       "Weight (g)            1880\n",
       "dtype: int64"
      ]
     },
     "execution_count": 99,
     "metadata": {},
     "output_type": "execute_result"
    }
   ],
   "source": [
    "# Checking the number of mice in the clean DataFrame.\n",
    "clean_data.count()"
   ]
  },
  {
   "cell_type": "markdown",
   "metadata": {},
   "source": [
    "## Summary Statistics"
   ]
  },
  {
   "cell_type": "code",
   "execution_count": 100,
   "metadata": {},
   "outputs": [
    {
     "data": {
      "text/html": [
       "<div>\n",
       "<style scoped>\n",
       "    .dataframe tbody tr th:only-of-type {\n",
       "        vertical-align: middle;\n",
       "    }\n",
       "\n",
       "    .dataframe tbody tr th {\n",
       "        vertical-align: top;\n",
       "    }\n",
       "\n",
       "    .dataframe thead th {\n",
       "        text-align: right;\n",
       "    }\n",
       "</style>\n",
       "<table border=\"1\" class=\"dataframe\">\n",
       "  <thead>\n",
       "    <tr style=\"text-align: right;\">\n",
       "      <th></th>\n",
       "      <th>Mean</th>\n",
       "      <th>Median</th>\n",
       "      <th>Standard Deviation</th>\n",
       "      <th>Variance</th>\n",
       "      <th>SEM</th>\n",
       "    </tr>\n",
       "    <tr>\n",
       "      <th>Drug Regimen</th>\n",
       "      <th></th>\n",
       "      <th></th>\n",
       "      <th></th>\n",
       "      <th></th>\n",
       "      <th></th>\n",
       "    </tr>\n",
       "  </thead>\n",
       "  <tbody>\n",
       "    <tr>\n",
       "      <th>Capomulin</th>\n",
       "      <td>40.675741</td>\n",
       "      <td>41.557809</td>\n",
       "      <td>4.994774</td>\n",
       "      <td>24.947764</td>\n",
       "      <td>0.329346</td>\n",
       "    </tr>\n",
       "    <tr>\n",
       "      <th>Ceftamin</th>\n",
       "      <td>52.591172</td>\n",
       "      <td>51.776157</td>\n",
       "      <td>6.268188</td>\n",
       "      <td>39.290177</td>\n",
       "      <td>0.469821</td>\n",
       "    </tr>\n",
       "    <tr>\n",
       "      <th>Infubinol</th>\n",
       "      <td>52.884795</td>\n",
       "      <td>51.820584</td>\n",
       "      <td>6.567243</td>\n",
       "      <td>43.128684</td>\n",
       "      <td>0.492236</td>\n",
       "    </tr>\n",
       "    <tr>\n",
       "      <th>Ketapril</th>\n",
       "      <td>55.235638</td>\n",
       "      <td>53.698743</td>\n",
       "      <td>8.279709</td>\n",
       "      <td>68.553577</td>\n",
       "      <td>0.603860</td>\n",
       "    </tr>\n",
       "    <tr>\n",
       "      <th>Naftisol</th>\n",
       "      <td>54.331565</td>\n",
       "      <td>52.509285</td>\n",
       "      <td>8.134708</td>\n",
       "      <td>66.173479</td>\n",
       "      <td>0.596466</td>\n",
       "    </tr>\n",
       "    <tr>\n",
       "      <th>Placebo</th>\n",
       "      <td>54.033581</td>\n",
       "      <td>52.288934</td>\n",
       "      <td>7.821003</td>\n",
       "      <td>61.168083</td>\n",
       "      <td>0.581331</td>\n",
       "    </tr>\n",
       "    <tr>\n",
       "      <th>Propriva</th>\n",
       "      <td>52.320930</td>\n",
       "      <td>50.446266</td>\n",
       "      <td>6.622085</td>\n",
       "      <td>43.852013</td>\n",
       "      <td>0.544332</td>\n",
       "    </tr>\n",
       "    <tr>\n",
       "      <th>Ramicane</th>\n",
       "      <td>40.216745</td>\n",
       "      <td>40.673236</td>\n",
       "      <td>4.846308</td>\n",
       "      <td>23.486704</td>\n",
       "      <td>0.320955</td>\n",
       "    </tr>\n",
       "    <tr>\n",
       "      <th>Stelasyn</th>\n",
       "      <td>54.233149</td>\n",
       "      <td>52.431737</td>\n",
       "      <td>7.710419</td>\n",
       "      <td>59.450562</td>\n",
       "      <td>0.573111</td>\n",
       "    </tr>\n",
       "    <tr>\n",
       "      <th>Zoniferol</th>\n",
       "      <td>53.236507</td>\n",
       "      <td>51.818479</td>\n",
       "      <td>6.966589</td>\n",
       "      <td>48.533355</td>\n",
       "      <td>0.516398</td>\n",
       "    </tr>\n",
       "  </tbody>\n",
       "</table>\n",
       "</div>"
      ],
      "text/plain": [
       "                   Mean     Median  Standard Deviation   Variance       SEM\n",
       "Drug Regimen                                                               \n",
       "Capomulin     40.675741  41.557809            4.994774  24.947764  0.329346\n",
       "Ceftamin      52.591172  51.776157            6.268188  39.290177  0.469821\n",
       "Infubinol     52.884795  51.820584            6.567243  43.128684  0.492236\n",
       "Ketapril      55.235638  53.698743            8.279709  68.553577  0.603860\n",
       "Naftisol      54.331565  52.509285            8.134708  66.173479  0.596466\n",
       "Placebo       54.033581  52.288934            7.821003  61.168083  0.581331\n",
       "Propriva      52.320930  50.446266            6.622085  43.852013  0.544332\n",
       "Ramicane      40.216745  40.673236            4.846308  23.486704  0.320955\n",
       "Stelasyn      54.233149  52.431737            7.710419  59.450562  0.573111\n",
       "Zoniferol     53.236507  51.818479            6.966589  48.533355  0.516398"
      ]
     },
     "execution_count": 100,
     "metadata": {},
     "output_type": "execute_result"
    }
   ],
   "source": [
    "# Generate a summary statistics table of mean, median, variance, standard deviation, and SEM of the tumor volume for each regimen\n",
    "\n",
    "# This method is the most straighforward, creating multiple series and putting them all together at the end.\n",
    "#function in pandas\n",
    "summary_gp = clean_data.groupby('Drug Regimen')\n",
    "summary_st = summary_gp['Tumor Volume (mm3)'].mean()\n",
    "summary_st = pd.DataFrame(summary_st)\n",
    "summary_st = summary_st.rename(columns={'Tumor Volume (mm3)':'Mean'})\n",
    "summary_st['Median'] = summary_gp['Tumor Volume (mm3)'].median()\n",
    "summary_st['Standard Deviation'] = summary_gp['Tumor Volume (mm3)'].std()\n",
    "\n",
    "summary_st['Variance'] = summary_gp['Tumor Volume (mm3)'].var()\n",
    "summary_st['SEM'] = summary_gp['Tumor Volume (mm3)'].sem()\n",
    "treatments = clean_data['Drug Regimen'].unique()\n",
    "\n",
    "summary_st"
   ]
  },
  {
   "cell_type": "code",
   "execution_count": 101,
   "metadata": {},
   "outputs": [
    {
     "data": {
      "text/plain": [
       "MultiIndex([(      'Drug Regimen',       ''),\n",
       "            ('Tumor Volume (mm3)',   'mean'),\n",
       "            ('Tumor Volume (mm3)',    'std'),\n",
       "            ('Tumor Volume (mm3)', 'median')],\n",
       "           )"
      ]
     },
     "execution_count": 101,
     "metadata": {},
     "output_type": "execute_result"
    }
   ],
   "source": [
    "# Generate a summary statistics table of mean, median, variance, standard deviation, and SEM of the tumor volume for each regimen\n",
    "\n",
    "# This method produces everything in a single groupby function\n",
    "summary_gp = clean_data[['Drug Regimen','Tumor Volume (mm3)']]\n",
    "summary_gp = summary_gp.groupby('Drug Regimen')\n",
    "# s.describe()[['count','mean']]\n",
    "#df.describe().loc[['count','max']]\n",
    "#https://stackoverflow.com/questions/19124148/modify-output-from-python-pandas-describe\n",
    "\n",
    "\n",
    "summary2 = summary_gp.describe()\n",
    "summary2.reset_index(level='Drug Regimen', inplace = True)\n",
    "summary2 = summary2.rename(columns={\"50%\":\"median\"})   # pandas.core.frame.DataFrame\n",
    "#summary2[\"Variance\"] = summary2[\"std\"]**2\n",
    "summary2.drop(['max', 'count', 'min','25%','75%'], axis=1, level=1, inplace = True)                      \n",
    "#summary2 = summary2.pop('count')\n",
    "# del summary2[\"count\"]\n",
    "#summary_st['Variance'] = summary_st[('std')] **2\n",
    "summary2.keys()   #columns\n",
    "#df.describe().unstack()[['count','max']]\n",
    "#summary3 = summary2.describe().unstack()[['count','max']]\n",
    "#data_file_df.    # 3.1\n"
   ]
  },
  {
   "cell_type": "markdown",
   "metadata": {},
   "source": [
    "## Bar and Pie Charts"
   ]
  },
  {
   "cell_type": "code",
   "execution_count": 102,
   "metadata": {},
   "outputs": [
    {
     "data": {
      "image/png": "[encoded data removed]",
      "text/plain": [
       "<Figure size 1800x360 with 1 Axes>"
      ]
     },
     "metadata": {
      "needs_background": "light"
     },
     "output_type": "display_data"
    }
   ],
   "source": [
    "# Generate a bar plot showing the total number of mice for each treatment throughout the course of the study using pandas. \n",
    "#https://pandas.pydata.org/pandas-docs/version/0.23.4/generated/pandas.DataFrame.plot.html\n",
    "# Using Pandas to Chart a DataFrame\n",
    "\n",
    "# Organize the data: Groupe the data by drug and timepoint to get count of mice at each timepoint\n",
    "bar_data = clean_data.groupby(['Drug Regimen','Timepoint'])['Sex'].count()  # pandas.core.series.Series\n",
    "bar_data_df = pd.DataFrame(bar_data)   # pandas.core.frame.DataFrame\n",
    "bar_data_df = bar_data_df.reset_index('Timepoint')\n",
    "bar_data_df = bar_data_df.reset_index('Drug Regimen')\n",
    "bar_data_df = bar_data_df.rename(columns={'Sex': 'Total Number of Mice'})  \n",
    "bar_data_df['x_axis'] = bar_data_df['Drug Regimen'] + ' ' + bar_data_df['Timepoint'].astype(str)\n",
    "bar_data_df.set_index('x_axis')  # sets as x axis in pnadas\n",
    "\n",
    "# Create bar chart using pandas\n",
    "bar_pandas = bar_data_df[['x_axis', 'Total Number of Mice']]\n",
    "bar_pandas = bar_pandas.set_index('x_axis')\n",
    "bar_pandas.plot(kind=\"bar\", figsize=(25,5), color = 'blue', alpha=0.5, legend = False)\n",
    "plt.xlabel(\"Treatment\")\n",
    "plt.ylabel('Total # Mice')\n",
    "plt.title(\"Mice Count\")\n",
    "\n",
    "#bar_pandas.set_xticklabels(bar_data_df['x_axis'], rotation=45)\n",
    "plt.show()"
   ]
  },
  {
   "cell_type": "code",
   "execution_count": 103,
   "metadata": {},
   "outputs": [
    {
     "data": {
      "image/png": "[encoded data removed]",
      "text/plain": [
       "<Figure size 1800x432 with 1 Axes>"
      ]
     },
     "metadata": {
      "needs_background": "light"
     },
     "output_type": "display_data"
    }
   ],
   "source": [
    "# Generate a bar plot showing the total number of mice for each treatment throughout the course of the study using pyplot.\n",
    "# bar_data = clean_data.groupby(['Drug Regimen','Timepoint'])['Sex'].count()\n",
    "\n",
    "x_axis = bar_data_df['x_axis']\n",
    "y_axis = bar_data_df['Total Number of Mice']\n",
    "plt.figure(figsize=(25,6))\n",
    "plt.bar(x_axis, y_axis, color='blue', alpha=0.5, width = 0.5,align=\"center\")\n",
    "plt.xlim(-1, len(x_axis))\n",
    "\n",
    "tick_locations = [x for x in range(len(x_axis))]\n",
    "plt.xticks(tick_locations,x_axis, rotation=\"vertical\") #, rain_df[\"State\"], \n",
    "\n",
    "plt.xlabel(\"Treatment\")\n",
    "plt.ylabel('Total # Mice')\n",
    "plt.title(\"Mice Count\")\n",
    "plt.tight_layout()\n",
    "plt.show()"
   ]
  },
  {
   "cell_type": "code",
   "execution_count": 104,
   "metadata": {},
   "outputs": [
    {
     "data": {
      "text/plain": [
       "pandas.core.series.Series"
      ]
     },
     "execution_count": 104,
     "metadata": {},
     "output_type": "execute_result"
    },
    {
     "data": {
      "image/png": "[encoded data removed]",
      "text/plain": [
       "<Figure size 432x288 with 1 Axes>"
      ]
     },
     "metadata": {},
     "output_type": "display_data"
    }
   ],
   "source": [
    "# Generate a pie plot showing the distribution of female versus male mice using pandas\n",
    "gender_df = clean_data.groupby(['Sex'])['Mouse ID'].nunique()\n",
    "gender_df = pd.DataFrame(gender_df)\n",
    "gender_df = gender_df.reset_index()\n",
    "gender_df = gender_df.rename(columns={'Timepoint': 'Gender Count'})  \n",
    "gender_count = gender_df[\"Mouse ID\"]\n",
    "gender_list = gender_df[\"Sex\"]\n",
    "colors =[\"lightblue\",\"lightcoral\"]\n",
    "explode = (0.05,0)\n",
    "gender_count.plot(kind=\"pie\", y=gender_list, colors=colors,autopct=\"%1.1f%%\", shadow=True,\n",
    "                  startangle=30,explode = explode, title=(\"Distribution of Female and Males\"))\n",
    "type(gender_list)\n",
    "#gender_count.set_ylabel(\"Gender\")\n",
    "#plt.show()"
   ]
  },
  {
   "cell_type": "code",
   "execution_count": 105,
   "metadata": {},
   "outputs": [
    {
     "data": {
      "image/png": "[encoded data removed]",
      "text/plain": [
       "<Figure size 432x288 with 1 Axes>"
      ]
     },
     "metadata": {},
     "output_type": "display_data"
    },
    {
     "data": {
      "text/plain": [
       "<Figure size 432x288 with 0 Axes>"
      ]
     },
     "metadata": {},
     "output_type": "display_data"
    }
   ],
   "source": [
    "# Generate a pie plot showing the distribution of female versus male mice using pyplot\n",
    "colors =[\"lightblue\",\"lightcoral\"]\n",
    "explode = (0.05,0)\n",
    "plt.pie(gender_count, labels=gender_list, colors=colors, \n",
    "        autopct=\"%1.1f%%\", explode= explode, shadow=True, startangle=30)   #alpha =0.5\n",
    "plt.title(\"Distribution of Female and Males\")\n",
    "plt.axis('equal')\n",
    "plt.show()\n",
    "plt.tight_layout()\n"
   ]
  },
  {
   "cell_type": "markdown",
   "metadata": {},
   "source": [
    "## Quartiles, Outliers and Boxplots"
   ]
  },
  {
   "cell_type": "code",
   "execution_count": 106,
   "metadata": {},
   "outputs": [
    {
     "data": {
      "text/html": [
       "<div>\n",
       "<style scoped>\n",
       "    .dataframe tbody tr th:only-of-type {\n",
       "        vertical-align: middle;\n",
       "    }\n",
       "\n",
       "    .dataframe tbody tr th {\n",
       "        vertical-align: top;\n",
       "    }\n",
       "\n",
       "    .dataframe thead th {\n",
       "        text-align: right;\n",
       "    }\n",
       "</style>\n",
       "<table border=\"1\" class=\"dataframe\">\n",
       "  <thead>\n",
       "    <tr style=\"text-align: right;\">\n",
       "      <th></th>\n",
       "      <th>Drug Regimen</th>\n",
       "      <th>Mouse ID</th>\n",
       "      <th>Timepoint</th>\n",
       "      <th>Tumor Volume (mm3)</th>\n",
       "      <th>Metastatic Sites</th>\n",
       "      <th>Sex</th>\n",
       "      <th>Age_months</th>\n",
       "      <th>Weight (g)</th>\n",
       "    </tr>\n",
       "  </thead>\n",
       "  <tbody>\n",
       "    <tr>\n",
       "      <th>0</th>\n",
       "      <td>Capomulin</td>\n",
       "      <td>b128</td>\n",
       "      <td>45</td>\n",
       "      <td>38.982878</td>\n",
       "      <td>2</td>\n",
       "      <td>Female</td>\n",
       "      <td>9</td>\n",
       "      <td>22</td>\n",
       "    </tr>\n",
       "    <tr>\n",
       "      <th>1</th>\n",
       "      <td>Capomulin</td>\n",
       "      <td>b742</td>\n",
       "      <td>45</td>\n",
       "      <td>38.939633</td>\n",
       "      <td>0</td>\n",
       "      <td>Male</td>\n",
       "      <td>7</td>\n",
       "      <td>21</td>\n",
       "    </tr>\n",
       "    <tr>\n",
       "      <th>2</th>\n",
       "      <td>Capomulin</td>\n",
       "      <td>f966</td>\n",
       "      <td>20</td>\n",
       "      <td>30.485985</td>\n",
       "      <td>0</td>\n",
       "      <td>Male</td>\n",
       "      <td>16</td>\n",
       "      <td>17</td>\n",
       "    </tr>\n",
       "    <tr>\n",
       "      <th>3</th>\n",
       "      <td>Capomulin</td>\n",
       "      <td>g288</td>\n",
       "      <td>45</td>\n",
       "      <td>37.074024</td>\n",
       "      <td>1</td>\n",
       "      <td>Male</td>\n",
       "      <td>3</td>\n",
       "      <td>19</td>\n",
       "    </tr>\n",
       "    <tr>\n",
       "      <th>4</th>\n",
       "      <td>Capomulin</td>\n",
       "      <td>g316</td>\n",
       "      <td>45</td>\n",
       "      <td>40.159220</td>\n",
       "      <td>2</td>\n",
       "      <td>Female</td>\n",
       "      <td>22</td>\n",
       "      <td>22</td>\n",
       "    </tr>\n",
       "    <tr>\n",
       "      <th>...</th>\n",
       "      <td>...</td>\n",
       "      <td>...</td>\n",
       "      <td>...</td>\n",
       "      <td>...</td>\n",
       "      <td>...</td>\n",
       "      <td>...</td>\n",
       "      <td>...</td>\n",
       "      <td>...</td>\n",
       "    </tr>\n",
       "    <tr>\n",
       "      <th>95</th>\n",
       "      <td>Ramicane</td>\n",
       "      <td>s508</td>\n",
       "      <td>45</td>\n",
       "      <td>30.276232</td>\n",
       "      <td>0</td>\n",
       "      <td>Male</td>\n",
       "      <td>1</td>\n",
       "      <td>17</td>\n",
       "    </tr>\n",
       "    <tr>\n",
       "      <th>96</th>\n",
       "      <td>Ramicane</td>\n",
       "      <td>u196</td>\n",
       "      <td>45</td>\n",
       "      <td>40.667713</td>\n",
       "      <td>3</td>\n",
       "      <td>Male</td>\n",
       "      <td>18</td>\n",
       "      <td>25</td>\n",
       "    </tr>\n",
       "    <tr>\n",
       "      <th>97</th>\n",
       "      <td>Ramicane</td>\n",
       "      <td>w678</td>\n",
       "      <td>5</td>\n",
       "      <td>43.166373</td>\n",
       "      <td>0</td>\n",
       "      <td>Female</td>\n",
       "      <td>5</td>\n",
       "      <td>24</td>\n",
       "    </tr>\n",
       "    <tr>\n",
       "      <th>98</th>\n",
       "      <td>Ramicane</td>\n",
       "      <td>y449</td>\n",
       "      <td>15</td>\n",
       "      <td>44.183451</td>\n",
       "      <td>0</td>\n",
       "      <td>Male</td>\n",
       "      <td>19</td>\n",
       "      <td>24</td>\n",
       "    </tr>\n",
       "    <tr>\n",
       "      <th>99</th>\n",
       "      <td>Ramicane</td>\n",
       "      <td>z578</td>\n",
       "      <td>45</td>\n",
       "      <td>30.638696</td>\n",
       "      <td>0</td>\n",
       "      <td>Male</td>\n",
       "      <td>11</td>\n",
       "      <td>16</td>\n",
       "    </tr>\n",
       "  </tbody>\n",
       "</table>\n",
       "<p>100 rows × 8 columns</p>\n",
       "</div>"
      ],
      "text/plain": [
       "   Drug Regimen Mouse ID  Timepoint  Tumor Volume (mm3)  Metastatic Sites  \\\n",
       "0     Capomulin     b128         45           38.982878                 2   \n",
       "1     Capomulin     b742         45           38.939633                 0   \n",
       "2     Capomulin     f966         20           30.485985                 0   \n",
       "3     Capomulin     g288         45           37.074024                 1   \n",
       "4     Capomulin     g316         45           40.159220                 2   \n",
       "..          ...      ...        ...                 ...               ...   \n",
       "95     Ramicane     s508         45           30.276232                 0   \n",
       "96     Ramicane     u196         45           40.667713                 3   \n",
       "97     Ramicane     w678          5           43.166373                 0   \n",
       "98     Ramicane     y449         15           44.183451                 0   \n",
       "99     Ramicane     z578         45           30.638696                 0   \n",
       "\n",
       "       Sex  Age_months  Weight (g)  \n",
       "0   Female           9          22  \n",
       "1     Male           7          21  \n",
       "2     Male          16          17  \n",
       "3     Male           3          19  \n",
       "4   Female          22          22  \n",
       "..     ...         ...         ...  \n",
       "95    Male           1          17  \n",
       "96    Male          18          25  \n",
       "97  Female           5          24  \n",
       "98    Male          19          24  \n",
       "99    Male          11          16  \n",
       "\n",
       "[100 rows x 8 columns]"
      ]
     },
     "execution_count": 106,
     "metadata": {},
     "output_type": "execute_result"
    }
   ],
   "source": [
    "# Calculate the final tumor volume of each mouse across four of the treatment regimens:  \n",
    "# Capomulin, Ramicane, Infubinol, and Ceftamin\n",
    "tumor_data = clean_data.set_index('Drug Regimen')\n",
    "tumor_data = tumor_data.loc[[\"Capomulin\",\"Ramicane\",\"Infubinol\",\"Ceftamin\"] , ['Timepoint','Mouse ID',]]\n",
    "\n",
    "# Start by getting the last (greatest) timepoint for each mouse using max\n",
    "tumor_data_gp = tumor_data.groupby(['Drug Regimen','Mouse ID'])\n",
    "tumor_data_max = tumor_data_gp.max()\n",
    "tumor_data_max.head(100)\n",
    "\n",
    "# Merge this group df with the original dataframe to get the tumor volume at the last timepoint'Tumor Volume (mm3)'\n",
    "tumor_data_max = tumor_data_max.reset_index()\n",
    "tumor_data_max = pd.merge(tumor_data_max,clean_data,on=['Mouse ID','Timepoint','Drug Regimen'], how='left')   \n",
    "#new_df = pd.merge(A_df, B_df,  how='left', left_on=['A_c1','c2'], right_on = ['B_c1','c2'])\n",
    "tumor_data_max"
   ]
  },
  {
   "cell_type": "code",
   "execution_count": 114,
   "metadata": {},
   "outputs": [
    {
     "name": "stdout",
     "output_type": "stream",
     "text": [
      "0     38.982878\n",
      "1     38.939633\n",
      "2     30.485985\n",
      "3     37.074024\n",
      "4     40.159220\n",
      "5     47.685963\n",
      "6     37.311846\n",
      "7     38.125164\n",
      "8     38.753265\n",
      "9     41.483008\n",
      "10    38.846876\n",
      "11    28.430964\n",
      "12    33.329098\n",
      "13    46.539206\n",
      "14    32.377357\n",
      "15    41.581521\n",
      "16    23.343598\n",
      "17    40.728578\n",
      "18    34.455298\n",
      "19    31.023923\n",
      "20    40.658124\n",
      "21    39.952347\n",
      "22    36.041047\n",
      "23    28.484033\n",
      "24    31.896238\n",
      "Name: Tumor Volume (mm3), dtype: float64\n",
      "25    62.999356\n",
      "26    45.000000\n",
      "27    56.057749\n",
      "28    55.742829\n",
      "29    48.722078\n",
      "30    47.784682\n",
      "31    61.849023\n",
      "32    68.923185\n",
      "33    67.748662\n",
      "34    57.918381\n",
      "35    46.784535\n",
      "36    59.851956\n",
      "37    64.299830\n",
      "38    59.741901\n",
      "39    61.433892\n",
      "40    64.192341\n",
      "41    45.000000\n",
      "42    52.925348\n",
      "43    45.000000\n",
      "44    67.527482\n",
      "45    45.000000\n",
      "46    64.634949\n",
      "47    61.386660\n",
      "48    68.594745\n",
      "49    64.729837\n",
      "Name: Tumor Volume (mm3), dtype: float64\n"
     ]
    },
    {
     "ename": "AttributeError",
     "evalue": "'NoneType' object has no attribute 'append'",
     "output_type": "error",
     "traceback": [
      "\u001b[1;31m---------------------------------------------------------------------------\u001b[0m",
      "\u001b[1;31mAttributeError\u001b[0m                            Traceback (most recent call last)",
      "\u001b[1;32m<ipython-input-114-baa26a16a734>\u001b[0m in \u001b[0;36m<module>\u001b[1;34m\u001b[0m\n\u001b[0;32m     24\u001b[0m     \u001b[0mlower_bound\u001b[0m \u001b[1;33m=\u001b[0m \u001b[0mlowerq\u001b[0m \u001b[1;33m-\u001b[0m \u001b[1;33m(\u001b[0m\u001b[1;36m1.5\u001b[0m\u001b[1;33m*\u001b[0m\u001b[0miqr\u001b[0m\u001b[1;33m)\u001b[0m\u001b[1;33m\u001b[0m\u001b[1;33m\u001b[0m\u001b[0m\n\u001b[0;32m     25\u001b[0m     \u001b[0mupper_bound\u001b[0m \u001b[1;33m=\u001b[0m \u001b[0mupperq\u001b[0m \u001b[1;33m+\u001b[0m \u001b[1;33m(\u001b[0m\u001b[1;36m1.5\u001b[0m\u001b[1;33m*\u001b[0m\u001b[0miqr\u001b[0m\u001b[1;33m)\u001b[0m\u001b[1;33m\u001b[0m\u001b[1;33m\u001b[0m\u001b[0m\n\u001b[1;32m---> 26\u001b[1;33m     \u001b[0mtumor_stats\u001b[0m \u001b[1;33m=\u001b[0m \u001b[0mtumor_stats\u001b[0m\u001b[1;33m.\u001b[0m\u001b[0mappend\u001b[0m\u001b[1;33m(\u001b[0m\u001b[1;33m{\u001b[0m\u001b[1;34m\"Drug Regimen\"\u001b[0m\u001b[1;33m:\u001b[0m\u001b[0mtreatment\u001b[0m\u001b[1;33m,\u001b[0m \u001b[1;34m\"Lower Quartile\"\u001b[0m\u001b[1;33m:\u001b[0m\u001b[0mlowerq\u001b[0m\u001b[1;33m,\u001b[0m\u001b[1;34m\"median\"\u001b[0m\u001b[1;33m:\u001b[0m\u001b[0mmedian\u001b[0m\u001b[1;33m,\u001b[0m\u001b[1;33m}\u001b[0m\u001b[1;33m)\u001b[0m\u001b[1;33m\u001b[0m\u001b[1;33m\u001b[0m\u001b[0m\n\u001b[0m\u001b[0;32m     27\u001b[0m \u001b[1;33m\u001b[0m\u001b[0m\n\u001b[0;32m     28\u001b[0m \u001b[1;31m#     outlier_treatment = tumors_treat.loc[(tumors_treat['Tumor Volume (mm3)'] < lower_bound) | (tumors_treat['Tumor Volume (mm3)'] > upper_bound)]\u001b[0m\u001b[1;33m\u001b[0m\u001b[1;33m\u001b[0m\u001b[1;33m\u001b[0m\u001b[0m\n",
      "\u001b[1;31mAttributeError\u001b[0m: 'NoneType' object has no attribute 'append'"
     ]
    }
   ],
   "source": [
    "# Put treatments into a list for for loop (and later for plot labels)\n",
    "tumor_vol = tumor_data_max[['Drug Regimen','Tumor Volume (mm3)']]\n",
    "treatments = tumor_vol['Drug Regimen'].unique()\n",
    "\n",
    "# Create empty list to fill with tumor vol data (for plotting)\n",
    "tumor_stats = []\n",
    "\n",
    "# Calculate the IQR and quantitatively determine if there are any potential outliers. \n",
    "\n",
    "# Locate the rows which contain mice on each drug and get the tumor volumes\n",
    "for treatment in treatments:\n",
    "    tumors_treat = tumor_vol.loc[tumor_vol['Drug Regimen']== treatment, 'Tumor Volume (mm3)']  #pandas.core.series.Series\n",
    "    # add subset \n",
    "    # df = pd.DataFrame[{treatment:tumors_treat.quantile([.25,.5,.75])}]\n",
    "    quartiles = tumors_treat.quantile([.25,.5,.75])\n",
    "    print(tumors_treat)\n",
    "    box_df =pd.DataFrame\n",
    "    lowerq = quartiles[0.25]\n",
    "    median = quartiles[0.50]\n",
    "    upperq = quartiles[0.75]\n",
    "    iqr = upperq-lowerq\n",
    "\n",
    "    # Determine outliers using upper and lower bounds \n",
    "    lower_bound = lowerq - (1.5*iqr)\n",
    "    upper_bound = upperq + (1.5*iqr)\n",
    "    tumor_stats = tumor_stats.append({\"Drug Regimen\":treatment, \"Lower Quartile\":lowerq,\"median\":median,})\n",
    "       \n",
    "#     outlier_treatment = tumors_treat.loc[(tumors_treat['Tumor Volume (mm3)'] < lower_bound) | (tumors_treat['Tumor Volume (mm3)'] > upper_bound)]\n",
    "#     outlier_occupancy = california_data.loc[(california_data['AveOccup'] < lower_bound) | (california_data['AveOccup'] > upper_bound)]\n",
    "#     print(f\" Potential outliers for {treatment} are {outlier_treatment}\")\n",
    "    # tumor_stats = tumor_stats.add()\n",
    "#     \n",
    "#  type(tumors_treat)\n",
    "    \n",
    "    \n",
    "    \n",
    "    \n",
    "\n",
    "    "
   ]
  },
  {
   "cell_type": "code",
   "execution_count": 108,
   "metadata": {},
   "outputs": [],
   "source": [
    "# Generate a box plot of the final tumor volume of each mouse across four regimens of interest\n"
   ]
  },
  {
   "cell_type": "markdown",
   "metadata": {},
   "source": [
    "## Line and Scatter Plots"
   ]
  },
  {
   "cell_type": "code",
   "execution_count": 109,
   "metadata": {},
   "outputs": [
    {
     "data": {
      "text/plain": [
       "Text(0.5, 1.0, 'Capomulin: Weight vs Tumor Size')"
      ]
     },
     "execution_count": 109,
     "metadata": {},
     "output_type": "execute_result"
    },
    {
     "data": {
      "image/png": "[encoded data removed]",
      "text/plain": [
       "<Figure size 432x288 with 1 Axes>"
      ]
     },
     "metadata": {
      "needs_background": "light"
     },
     "output_type": "display_data"
    }
   ],
   "source": [
    "# Generate a line plot of time point versus tumor volume for a mouse treated with Capomulin\n",
    "capomulin_timepoint_x = clean_data.loc[(clean_data['Drug Regimen']=='Capomulin'),['Timepoint'] ]\n",
    "capomulin_tumorvol_y = clean_data.loc[(clean_data['Drug Regimen']=='Capomulin'),['Tumor Volume (mm3)'] ]\n",
    "\n",
    "plt.scatter(capomulin_timepoint_x,capomulin_tumorvol_y)\n",
    "plt.xlabel('Weight (g)')\n",
    "plt.ylabel('Tumor Volume (mm3)')\n",
    "plt.title(\"Capomulin: Weight vs Tumor Size\")  \n"
   ]
  },
  {
   "cell_type": "code",
   "execution_count": 110,
   "metadata": {},
   "outputs": [
    {
     "data": {
      "text/plain": [
       "Text(0.5, 1.0, 'Capomulin: Weight vs Tumor Size')"
      ]
     },
     "execution_count": 110,
     "metadata": {},
     "output_type": "execute_result"
    },
    {
     "data": {
      "image/png": "[encoded data removed]",
      "text/plain": [
       "<Figure size 432x288 with 1 Axes>"
      ]
     },
     "metadata": {
      "needs_background": "light"
     },
     "output_type": "display_data"
    }
   ],
   "source": [
    "# Generate a scatter plot of mouse weight versus average tumor volume for the Capomulin regimen\n",
    "capomulin = clean_data.loc[(clean_data['Drug Regimen']=='Capomulin'),['Mouse ID','Tumor Volume (mm3)','Weight (g)'] ]\n",
    "capomulin = capomulin.groupby('Mouse ID')\n",
    "capomulin_avg_Tumor_y = capomulin['Tumor Volume (mm3)'].mean()   # pandas.core.series.Series\n",
    "# taking avg of wt which is itself   ????????????\n",
    "capomulin_wt_x= capomulin['Weight (g)'].mean()   # pandas.core.series.Series\n",
    "#capomulin_timepoint_x = capomulin.groupby('Mouse ID')\n",
    "# capomulin_timepoint_x = clean_data.loc[(clean_data['Drug Regimen']=='Capomulin'),['Weight (g)'] ]\n",
    "# capomulin_tumorvol_y = clean_data.loc[(clean_data['Drug Regimen']=='Capomulin'),['Tumor Volume (mm3)'] ]\n",
    "\n",
    "plt.scatter(capomulin_wt_x,capomulin_avg_Tumor_y)\n",
    "plt.xlabel('Weight (g)')\n",
    "plt.ylabel('Tumor Volume (mm3)')\n",
    "plt.title(\"Capomulin: Weight vs Tumor Size\")"
   ]
  },
  {
   "cell_type": "markdown",
   "metadata": {},
   "source": [
    "## Correlation and Regression"
   ]
  },
  {
   "cell_type": "code",
   "execution_count": 162,
   "metadata": {},
   "outputs": [
    {
     "name": "stdout",
     "output_type": "stream",
     "text": [
      "The correleation coefficient is 0.842.\n",
      "The linear regression line is y = 0.95x + 21.55\n"
     ]
    }
   ],
   "source": [
    "# Calculate the correlation coefficient and linear regression model \n",
    "# for mouse weight and average tumor volume for the Capomulin regimen\n",
    "(slope, intercept, rvalue, pvalue, stderr) = linregress(capomulin_wt_x,capomulin_avg_Tumor_y)\n",
    "print(f\"The correleation coefficient is {round(rvalue,3)}.\")\n",
    "print(f\"The linear regression line is y = {round(slope,2)}x + {round(intercept,2)}\")"
   ]
  },
  {
   "cell_type": "code",
   "execution_count": null,
   "metadata": {},
   "outputs": [],
   "source": []
  },
  {
   "cell_type": "code",
   "execution_count": null,
   "metadata": {},
   "outputs": [],
   "source": []
  }
 ],
 "metadata": {
  "anaconda-cloud": {},
  "kernelspec": {
   "display_name": "Python 3",
   "language": "python",
   "name": "python3"
  },
  "language_info": {
   "codemirror_mode": {
    "name": "ipython",
    "version": 3
   },
   "file_extension": ".py",
   "mimetype": "text/x-python",
   "name": "python",
   "nbconvert_exporter": "python",
   "pygments_lexer": "ipython3",
   "version": "3.6.10"
  }
 },
 "nbformat": 4,
 "nbformat_minor": 2
}
